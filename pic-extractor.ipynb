{
 "cells": [
  {
   "cell_type": "markdown",
   "id": "9a63a749",
   "metadata": {},
   "source": [
    "# Introduction\n",
    "\n",
    "The purpose of this project is to separate scans of CDs, DVDs, and floppy disks made on a flatbed\n",
    "scanner."
   ]
  },
  {
   "cell_type": "code",
   "execution_count": null,
   "id": "6d3ae3f6",
   "metadata": {},
   "outputs": [],
   "source": [
    "# See https://stackoverflow.com/questions/56604151/how-to-extract-multiple-objects-from-an-image-using-python-opencv\n",
    "import cv2\n"
   ]
  }
 ],
 "metadata": {
  "kernelspec": {
   "display_name": "Python 3 (ipykernel)",
   "language": "python",
   "name": "python3"
  },
  "language_info": {
   "codemirror_mode": {
    "name": "ipython",
    "version": 3
   },
   "file_extension": ".py",
   "mimetype": "text/x-python",
   "name": "python",
   "nbconvert_exporter": "python",
   "pygments_lexer": "ipython3",
   "version": "3.9.12"
  }
 },
 "nbformat": 4,
 "nbformat_minor": 5
}
